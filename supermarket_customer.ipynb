{
  "nbformat": 4,
  "nbformat_minor": 0,
  "metadata": {
    "colab": {
      "provenance": [],
      "mount_file_id": "1YmZReKrLMb57Apvk3ZS0Q0nl2IAPdice",
      "authorship_tag": "ABX9TyNW70z3uChNYl025YyVFy2z",
      "include_colab_link": true
    },
    "kernelspec": {
      "name": "python3",
      "display_name": "Python 3"
    },
    "language_info": {
      "name": "python"
    },
    "accelerator": "GPU",
    "gpuClass": "standard"
  },
  "cells": [
    {
      "cell_type": "markdown",
      "metadata": {
        "id": "view-in-github",
        "colab_type": "text"
      },
      "source": [
        "<a href=\"https://colab.research.google.com/github/nimnathw/supermarket-customer/blob/main/supermarket_customer.ipynb\" target=\"_parent\"><img src=\"https://colab.research.google.com/assets/colab-badge.svg\" alt=\"Open In Colab\"/></a>"
      ]
    },
    {
      "cell_type": "markdown",
      "source": [
        "### Supermarket customer segmentation\n",
        "I use a Kaggle dataset to segment orders and customers based on seven and five features, respectively. After data cleaning and preprocessing, I run k-means algorithm to group supermarket orders. Then, I group the dataset by customer IDs and take the maximum values as the row values for a selected set of relevant features. I run k-means algorithm on the grouped customer data to identify customer clusters. Finally, I present the features associated with each order cluster and customer cluster.\n",
        "\n",
        "#### The dataset consists of 2,019,501 Rows and 12 Columns. The columns are:\n",
        "\n",
        "    order_id – (A unique number to identity the order)\n",
        "    user_id - (A unique number to identify the user)\n",
        "    order_number – (Number of the order)\n",
        "    order_dow – (Day of the Week the order was made)\n",
        "    order_hour_of_day – (Time of the order)\n",
        "    days_since_prior_order - (History of the order)\n",
        "    product_id – (Id of the product)\n",
        "    add_to_cart_order – (Number of items added to cart)\n",
        "    reordered – (If the reorder took place)\n",
        "    department_id - (Unique number allocated to each department)\n",
        "    department – (Names of the departments)\n",
        "    product_name – (Name of the products)\n"
      ],
      "metadata": {
        "id": "VoqBJ2jgczto"
      }
    },
    {
      "cell_type": "code",
      "source": [
        "# Import packages\n",
        "import pandas as pd\n",
        "import numpy as np\n",
        "import seaborn as sns\n",
        "import matplotlib.pyplot as plt\n",
        "from sklearn.cluster import KMeans , k_means\n",
        "\n",
        "file =\"/content/drive/MyDrive/Colab Notebooks/ECommerce_consumer behaviour.csv\"\n",
        "\n",
        "# Load file\n",
        "data = pd.read_csv(file)\n"
      ],
      "metadata": {
        "id": "kKnSAzC4HF3W"
      },
      "execution_count": 89,
      "outputs": []
    },
    {
      "cell_type": "code",
      "source": [
        "# Check data\n",
        "data.head()"
      ],
      "metadata": {
        "colab": {
          "base_uri": "https://localhost:8080/",
          "height": 339
        },
        "id": "buTPSgMgiird",
        "outputId": "a1c93241-70ab-4df3-e896-f52a39187030"
      },
      "execution_count": 58,
      "outputs": [
        {
          "output_type": "execute_result",
          "data": {
            "text/plain": [
              "   order_id  user_id  order_number  order_dow  order_hour_of_day  \\\n",
              "0   2425083    49125             1          2                 18   \n",
              "1   2425083    49125             1          2                 18   \n",
              "2   2425083    49125             1          2                 18   \n",
              "3   2425083    49125             1          2                 18   \n",
              "4   2425083    49125             1          2                 18   \n",
              "\n",
              "   days_since_prior_order  product_id  add_to_cart_order  reordered  \\\n",
              "0                     NaN          17                  1          0   \n",
              "1                     NaN          91                  2          0   \n",
              "2                     NaN          36                  3          0   \n",
              "3                     NaN          83                  4          0   \n",
              "4                     NaN          83                  5          0   \n",
              "\n",
              "   department_id  department        product_name  \n",
              "0             13      pantry  baking ingredients  \n",
              "1             16  dairy eggs     soy lactosefree  \n",
              "2             16  dairy eggs              butter  \n",
              "3              4     produce    fresh vegetables  \n",
              "4              4     produce    fresh vegetables  "
            ],
            "text/html": [
              "\n",
              "  <div id=\"df-35e7754c-5f61-4356-9db2-eeb9a1f9ad77\">\n",
              "    <div class=\"colab-df-container\">\n",
              "      <div>\n",
              "<style scoped>\n",
              "    .dataframe tbody tr th:only-of-type {\n",
              "        vertical-align: middle;\n",
              "    }\n",
              "\n",
              "    .dataframe tbody tr th {\n",
              "        vertical-align: top;\n",
              "    }\n",
              "\n",
              "    .dataframe thead th {\n",
              "        text-align: right;\n",
              "    }\n",
              "</style>\n",
              "<table border=\"1\" class=\"dataframe\">\n",
              "  <thead>\n",
              "    <tr style=\"text-align: right;\">\n",
              "      <th></th>\n",
              "      <th>order_id</th>\n",
              "      <th>user_id</th>\n",
              "      <th>order_number</th>\n",
              "      <th>order_dow</th>\n",
              "      <th>order_hour_of_day</th>\n",
              "      <th>days_since_prior_order</th>\n",
              "      <th>product_id</th>\n",
              "      <th>add_to_cart_order</th>\n",
              "      <th>reordered</th>\n",
              "      <th>department_id</th>\n",
              "      <th>department</th>\n",
              "      <th>product_name</th>\n",
              "    </tr>\n",
              "  </thead>\n",
              "  <tbody>\n",
              "    <tr>\n",
              "      <th>0</th>\n",
              "      <td>2425083</td>\n",
              "      <td>49125</td>\n",
              "      <td>1</td>\n",
              "      <td>2</td>\n",
              "      <td>18</td>\n",
              "      <td>NaN</td>\n",
              "      <td>17</td>\n",
              "      <td>1</td>\n",
              "      <td>0</td>\n",
              "      <td>13</td>\n",
              "      <td>pantry</td>\n",
              "      <td>baking ingredients</td>\n",
              "    </tr>\n",
              "    <tr>\n",
              "      <th>1</th>\n",
              "      <td>2425083</td>\n",
              "      <td>49125</td>\n",
              "      <td>1</td>\n",
              "      <td>2</td>\n",
              "      <td>18</td>\n",
              "      <td>NaN</td>\n",
              "      <td>91</td>\n",
              "      <td>2</td>\n",
              "      <td>0</td>\n",
              "      <td>16</td>\n",
              "      <td>dairy eggs</td>\n",
              "      <td>soy lactosefree</td>\n",
              "    </tr>\n",
              "    <tr>\n",
              "      <th>2</th>\n",
              "      <td>2425083</td>\n",
              "      <td>49125</td>\n",
              "      <td>1</td>\n",
              "      <td>2</td>\n",
              "      <td>18</td>\n",
              "      <td>NaN</td>\n",
              "      <td>36</td>\n",
              "      <td>3</td>\n",
              "      <td>0</td>\n",
              "      <td>16</td>\n",
              "      <td>dairy eggs</td>\n",
              "      <td>butter</td>\n",
              "    </tr>\n",
              "    <tr>\n",
              "      <th>3</th>\n",
              "      <td>2425083</td>\n",
              "      <td>49125</td>\n",
              "      <td>1</td>\n",
              "      <td>2</td>\n",
              "      <td>18</td>\n",
              "      <td>NaN</td>\n",
              "      <td>83</td>\n",
              "      <td>4</td>\n",
              "      <td>0</td>\n",
              "      <td>4</td>\n",
              "      <td>produce</td>\n",
              "      <td>fresh vegetables</td>\n",
              "    </tr>\n",
              "    <tr>\n",
              "      <th>4</th>\n",
              "      <td>2425083</td>\n",
              "      <td>49125</td>\n",
              "      <td>1</td>\n",
              "      <td>2</td>\n",
              "      <td>18</td>\n",
              "      <td>NaN</td>\n",
              "      <td>83</td>\n",
              "      <td>5</td>\n",
              "      <td>0</td>\n",
              "      <td>4</td>\n",
              "      <td>produce</td>\n",
              "      <td>fresh vegetables</td>\n",
              "    </tr>\n",
              "  </tbody>\n",
              "</table>\n",
              "</div>\n",
              "      <button class=\"colab-df-convert\" onclick=\"convertToInteractive('df-35e7754c-5f61-4356-9db2-eeb9a1f9ad77')\"\n",
              "              title=\"Convert this dataframe to an interactive table.\"\n",
              "              style=\"display:none;\">\n",
              "        \n",
              "  <svg xmlns=\"http://www.w3.org/2000/svg\" height=\"24px\"viewBox=\"0 0 24 24\"\n",
              "       width=\"24px\">\n",
              "    <path d=\"M0 0h24v24H0V0z\" fill=\"none\"/>\n",
              "    <path d=\"M18.56 5.44l.94 2.06.94-2.06 2.06-.94-2.06-.94-.94-2.06-.94 2.06-2.06.94zm-11 1L8.5 8.5l.94-2.06 2.06-.94-2.06-.94L8.5 2.5l-.94 2.06-2.06.94zm10 10l.94 2.06.94-2.06 2.06-.94-2.06-.94-.94-2.06-.94 2.06-2.06.94z\"/><path d=\"M17.41 7.96l-1.37-1.37c-.4-.4-.92-.59-1.43-.59-.52 0-1.04.2-1.43.59L10.3 9.45l-7.72 7.72c-.78.78-.78 2.05 0 2.83L4 21.41c.39.39.9.59 1.41.59.51 0 1.02-.2 1.41-.59l7.78-7.78 2.81-2.81c.8-.78.8-2.07 0-2.86zM5.41 20L4 18.59l7.72-7.72 1.47 1.35L5.41 20z\"/>\n",
              "  </svg>\n",
              "      </button>\n",
              "      \n",
              "  <style>\n",
              "    .colab-df-container {\n",
              "      display:flex;\n",
              "      flex-wrap:wrap;\n",
              "      gap: 12px;\n",
              "    }\n",
              "\n",
              "    .colab-df-convert {\n",
              "      background-color: #E8F0FE;\n",
              "      border: none;\n",
              "      border-radius: 50%;\n",
              "      cursor: pointer;\n",
              "      display: none;\n",
              "      fill: #1967D2;\n",
              "      height: 32px;\n",
              "      padding: 0 0 0 0;\n",
              "      width: 32px;\n",
              "    }\n",
              "\n",
              "    .colab-df-convert:hover {\n",
              "      background-color: #E2EBFA;\n",
              "      box-shadow: 0px 1px 2px rgba(60, 64, 67, 0.3), 0px 1px 3px 1px rgba(60, 64, 67, 0.15);\n",
              "      fill: #174EA6;\n",
              "    }\n",
              "\n",
              "    [theme=dark] .colab-df-convert {\n",
              "      background-color: #3B4455;\n",
              "      fill: #D2E3FC;\n",
              "    }\n",
              "\n",
              "    [theme=dark] .colab-df-convert:hover {\n",
              "      background-color: #434B5C;\n",
              "      box-shadow: 0px 1px 3px 1px rgba(0, 0, 0, 0.15);\n",
              "      filter: drop-shadow(0px 1px 2px rgba(0, 0, 0, 0.3));\n",
              "      fill: #FFFFFF;\n",
              "    }\n",
              "  </style>\n",
              "\n",
              "      <script>\n",
              "        const buttonEl =\n",
              "          document.querySelector('#df-35e7754c-5f61-4356-9db2-eeb9a1f9ad77 button.colab-df-convert');\n",
              "        buttonEl.style.display =\n",
              "          google.colab.kernel.accessAllowed ? 'block' : 'none';\n",
              "\n",
              "        async function convertToInteractive(key) {\n",
              "          const element = document.querySelector('#df-35e7754c-5f61-4356-9db2-eeb9a1f9ad77');\n",
              "          const dataTable =\n",
              "            await google.colab.kernel.invokeFunction('convertToInteractive',\n",
              "                                                     [key], {});\n",
              "          if (!dataTable) return;\n",
              "\n",
              "          const docLinkHtml = 'Like what you see? Visit the ' +\n",
              "            '<a target=\"_blank\" href=https://colab.research.google.com/notebooks/data_table.ipynb>data table notebook</a>'\n",
              "            + ' to learn more about interactive tables.';\n",
              "          element.innerHTML = '';\n",
              "          dataTable['output_type'] = 'display_data';\n",
              "          await google.colab.output.renderOutput(dataTable, element);\n",
              "          const docLink = document.createElement('div');\n",
              "          docLink.innerHTML = docLinkHtml;\n",
              "          element.appendChild(docLink);\n",
              "        }\n",
              "      </script>\n",
              "    </div>\n",
              "  </div>\n",
              "  "
            ]
          },
          "metadata": {},
          "execution_count": 58
        }
      ]
    },
    {
      "cell_type": "code",
      "source": [
        "# Check column data types\n",
        "print(data.columns)\n",
        "print(data.info())\n",
        "print(data.user_id.nunique())"
      ],
      "metadata": {
        "colab": {
          "base_uri": "https://localhost:8080/"
        },
        "id": "2zW8Zr3ri3Pa",
        "outputId": "2744d8ec-1f1b-43ed-f3fd-1c1fac41dd37"
      },
      "execution_count": 59,
      "outputs": [
        {
          "output_type": "stream",
          "name": "stdout",
          "text": [
            "Index(['order_id', 'user_id', 'order_number', 'order_dow', 'order_hour_of_day',\n",
            "       'days_since_prior_order', 'product_id', 'add_to_cart_order',\n",
            "       'reordered', 'department_id', 'department', 'product_name'],\n",
            "      dtype='object')\n",
            "<class 'pandas.core.frame.DataFrame'>\n",
            "RangeIndex: 2019501 entries, 0 to 2019500\n",
            "Data columns (total 12 columns):\n",
            " #   Column                  Dtype  \n",
            "---  ------                  -----  \n",
            " 0   order_id                int64  \n",
            " 1   user_id                 int64  \n",
            " 2   order_number            int64  \n",
            " 3   order_dow               int64  \n",
            " 4   order_hour_of_day       int64  \n",
            " 5   days_since_prior_order  float64\n",
            " 6   product_id              int64  \n",
            " 7   add_to_cart_order       int64  \n",
            " 8   reordered               int64  \n",
            " 9   department_id           int64  \n",
            " 10  department              object \n",
            " 11  product_name            object \n",
            "dtypes: float64(1), int64(9), object(2)\n",
            "memory usage: 184.9+ MB\n",
            "None\n",
            "105273\n"
          ]
        }
      ]
    },
    {
      "cell_type": "code",
      "source": [
        "# Check for value counts of categorical variables\n",
        "\n",
        "def get_value_counts(data_frame):\n",
        "    for column in data_frame.columns:\n",
        "        if data_frame[column].dtype == object:\n",
        "            print(\"Column {}: \\n \\\n",
        "                Unique Values: \\n {} \\n \\\n",
        "                Value Counts: \\n {} \\n \\n\".format(column, data_frame[column].unique(), data_frame[column].value_counts()))\n",
        "\n",
        "print(get_value_counts(data))\n"
      ],
      "metadata": {
        "colab": {
          "base_uri": "https://localhost:8080/"
        },
        "id": "3ujoKKNYjNqe",
        "outputId": "927819a3-f496-425c-c5ef-5d04db6e12cf"
      },
      "execution_count": 60,
      "outputs": [
        {
          "output_type": "stream",
          "name": "stdout",
          "text": [
            "Column department: \n",
            "                 Unique Values: \n",
            " ['pantry' 'dairy eggs' 'produce' 'canned goods' 'meat seafood' 'frozen'\n",
            " 'bakery' 'beverages' 'breakfast' 'snacks' 'international' 'household'\n",
            " 'personal care' 'babies' 'deli' 'dry goods pasta' 'missing' 'alcohol'\n",
            " 'pets' 'bulk' 'other'] \n",
            "                 Value Counts: \n",
            " produce            588996\n",
            "dairy eggs         336915\n",
            "snacks             180692\n",
            "beverages          168126\n",
            "frozen             139536\n",
            "pantry             116262\n",
            "bakery              72983\n",
            "canned goods        66053\n",
            "deli                65176\n",
            "dry goods pasta     54054\n",
            "household           46446\n",
            "breakfast           44605\n",
            "meat seafood        44271\n",
            "personal care       28134\n",
            "babies              25940\n",
            "international       16738\n",
            "alcohol              9439\n",
            "pets                 6013\n",
            "missing              4749\n",
            "other                2240\n",
            "bulk                 2133\n",
            "Name: department, dtype: int64 \n",
            " \n",
            "\n",
            "Column product_name: \n",
            "                 Unique Values: \n",
            " ['baking ingredients' 'soy lactosefree' 'butter' 'fresh vegetables'\n",
            " 'yogurt' 'canned meals beans' 'poultry counter' 'ice cream ice'\n",
            " 'fresh fruits' 'milk' 'packaged cheese' 'bread' 'tea' 'bakery desserts'\n",
            " 'frozen breakfast' 'cereal' 'eggs' 'buns rolls' 'cream'\n",
            " 'water seltzer sparkling water' 'pickled goods olives' 'packaged poultry'\n",
            " 'other creams cheeses' 'honeys syrups nectars' 'coffee' 'refrigerated'\n",
            " 'energy granola bars' 'soft drinks' 'latino foods'\n",
            " 'plates bowls cups flatware' 'paper goods' 'oral hygiene' 'diapers wipes'\n",
            " 'food storage' 'nuts seeds dried fruit' 'soap'\n",
            " 'packaged vegetables fruits' 'hot dogs bacon sausage' 'lunch meat'\n",
            " 'chips pretzels' 'meat counter' 'fresh dips tapenades'\n",
            " 'prepared soups salads' 'condiments' 'juice nectars'\n",
            " 'canned fruit applesauce' 'preserved dips spreads' 'packaged produce'\n",
            " 'canned jarred vegetables' 'fresh pasta' 'pasta sauce' 'frozen produce'\n",
            " 'frozen appetizers sides' 'soup broth bouillon' 'dry pasta'\n",
            " 'prepared meals' 'fresh herbs' 'hot cereal pancake mixes'\n",
            " 'spices seasonings' 'grains rice dried goods' 'frozen breads doughs'\n",
            " 'missing' 'popcorn jerky' 'granola' 'muscles joints pain relief'\n",
            " 'energy sports drinks' 'crackers' 'candy chocolate'\n",
            " 'fruit vegetable snacks' 'tortillas flat bread' 'tofu meat alternatives'\n",
            " 'beers coolers' 'laundry' 'asian foods' 'frozen meat seafood'\n",
            " 'frozen meals' 'spreads' 'mint gum' 'cold flu allergy' 'breakfast bakery'\n",
            " 'trail mix snack mix' 'air fresheners candles' 'feminine care'\n",
            " 'breakfast bars pastries' 'instant foods' 'spirits'\n",
            " 'salad dressing toppings' 'doughs gelatins bake mixes' 'oils vinegars'\n",
            " 'baby food formula' 'eye ear care' 'dog food care' 'baby accessories'\n",
            " 'frozen pizza' 'marinades meat preparation' 'frozen vegan vegetarian'\n",
            " 'shave needs' 'specialty wines champagnes' 'cookies cakes'\n",
            " 'cleaning products' 'packaged seafood' 'bulk grains rice dried goods'\n",
            " 'frozen dessert' 'skin care' 'deodorants' 'white wines'\n",
            " 'protein meal replacements' 'canned meat seafood' 'digestion'\n",
            " 'trash bags liners' 'refrigerated pudding desserts' 'specialty cheeses'\n",
            " 'bulk dried fruits vegetables' 'red wines' 'body lotions soap'\n",
            " 'hair care' 'vitamins supplements' 'cocoa drink mixes' 'first aid'\n",
            " 'dish detergents' 'packaged meat' 'other' 'cat food care' 'indian foods'\n",
            " 'baking supplies decor' 'seafood counter' 'ice cream toppings'\n",
            " 'baby bath body care' 'more household' 'kosher foods' 'facial care'\n",
            " 'kitchen supplies' 'beauty' 'frozen juice'] \n",
            "                 Value Counts: \n",
            " fresh fruits                  226039\n",
            "fresh vegetables              212611\n",
            "packaged vegetables fruits    109596\n",
            "yogurt                         90751\n",
            "packaged cheese                61502\n",
            "                               ...  \n",
            "kitchen supplies                 561\n",
            "baby bath body care              515\n",
            "baby accessories                 504\n",
            "beauty                           387\n",
            "frozen juice                     279\n",
            "Name: product_name, Length: 134, dtype: int64 \n",
            " \n",
            "\n",
            "None\n"
          ]
        }
      ]
    },
    {
      "cell_type": "code",
      "source": [
        "# Check for missing values\n",
        "print(data.isnull().sum(axis=0))"
      ],
      "metadata": {
        "colab": {
          "base_uri": "https://localhost:8080/"
        },
        "id": "MmL4VOqJm-qj",
        "outputId": "57b2d502-3164-4825-a103-9daff05af26f"
      },
      "execution_count": 61,
      "outputs": [
        {
          "output_type": "stream",
          "name": "stdout",
          "text": [
            "order_id                       0\n",
            "user_id                        0\n",
            "order_number                   0\n",
            "order_dow                      0\n",
            "order_hour_of_day              0\n",
            "days_since_prior_order    124342\n",
            "product_id                     0\n",
            "add_to_cart_order              0\n",
            "reordered                      0\n",
            "department_id                  0\n",
            "department                     0\n",
            "product_name                   0\n",
            "dtype: int64\n"
          ]
        }
      ]
    },
    {
      "cell_type": "code",
      "source": [
        "# Replace missing values of the column \"days_since_prior_order\" to -1\n",
        "data[\"days_since_prior_order\"].fillna(-1, inplace=True)\n",
        "\n",
        "# Convert the dype of column \"days_since_prior_order\" to int\n",
        "data[\"days_since_prior_order\"] = data[\"days_since_prior_order\"].astype(int)\n",
        "print(data.isnull().sum(axis=0))"
      ],
      "metadata": {
        "colab": {
          "base_uri": "https://localhost:8080/"
        },
        "id": "WcuMAVPznWh9",
        "outputId": "744f077f-2394-4a3f-fad4-2bd4f69ddee5"
      },
      "execution_count": 90,
      "outputs": [
        {
          "output_type": "stream",
          "name": "stdout",
          "text": [
            "order_id                  0\n",
            "user_id                   0\n",
            "order_number              0\n",
            "order_dow                 0\n",
            "order_hour_of_day         0\n",
            "days_since_prior_order    0\n",
            "product_id                0\n",
            "add_to_cart_order         0\n",
            "reordered                 0\n",
            "department_id             0\n",
            "department                0\n",
            "product_name              0\n",
            "dtype: int64\n"
          ]
        }
      ]
    },
    {
      "cell_type": "code",
      "source": [
        "# Visualize customer groups by maximum number of items added to the cart\n",
        "group_by_user = data.groupby(\"user_id\")[\"add_to_cart_order\"].aggregate(\"max\").reset_index()\n",
        "user_groups = group_by_user[\"add_to_cart_order\"].value_counts()\n",
        "\n",
        "# Create a figure and axis object\n",
        "fig, ax = plt.subplots(figsize=(15, 12))\n",
        "\n",
        "# Define custom colors\n",
        "custom_colors = ['#4B9CD3', '#2F5B7F', '#1A3E5D', '#0B2942']\n",
        "\n",
        "# Plot the bar chart\n",
        "ax.bar(user_groups.index, user_groups.values, color=custom_colors)\n",
        "\n",
        "# Set background color to white\n",
        "ax.set_facecolor('white')\n",
        "\n",
        "# Add labels and titles\n",
        "ax.set_ylabel('Number of unique users', fontsize=13)\n",
        "ax.set_xlabel('Maximum number of products added to cart', fontsize=13)\n",
        "ax.set_title('Customer groups by maximum number of items added to the cart', fontsize=16)\n",
        "\n",
        "# Rotate x-axis labels\n",
        "plt.xticks(rotation='vertical')\n",
        "\n",
        "# Remove top and right spines\n",
        "ax.spines['right'].set_visible(False)\n",
        "ax.spines['top'].set_visible(False)\n",
        "\n",
        "# Show the plot\n",
        "plt.show()\n",
        "\n"
      ],
      "metadata": {
        "colab": {
          "base_uri": "https://localhost:8080/",
          "height": 744
        },
        "id": "Za3nBofjwf6b",
        "outputId": "a2a3774d-be82-4eed-ee20-c85050ee2d3b"
      },
      "execution_count": 63,
      "outputs": [
        {
          "output_type": "display_data",
          "data": {
            "text/plain": [
              "<Figure size 1080x864 with 1 Axes>"
            ],
            "image/png": "[encoded data removed]"
          },
          "metadata": {
            "needs_background": "light"
          }
        }
      ]
    },
    {
      "cell_type": "code",
      "source": [
        "# Group the orders by customer_id and sum the values\n",
        "customer_data = data.groupby(\"user_id\").max()\n",
        "\n",
        "# Remove unnessary columns\n",
        "data = data.drop([\"department_id\", \"product_id\", \"order_id\", \"user_id\", \"order_number\"], axis=1)\n",
        "customer_data = customer_data.drop([\"department_id\", \"product_id\", \"order_id\",\"order_number\", \"department\",\"product_name\"], axis=1)\n",
        "print(data.info())\n",
        "print(customer_data.info())"
      ],
      "metadata": {
        "id": "dhtHNztwpRlF",
        "colab": {
          "base_uri": "https://localhost:8080/"
        },
        "outputId": "c2f6e2c3-c405-4657-e99d-a2ad8754bdcc"
      },
      "execution_count": 91,
      "outputs": [
        {
          "output_type": "stream",
          "name": "stdout",
          "text": [
            "<class 'pandas.core.frame.DataFrame'>\n",
            "RangeIndex: 2019501 entries, 0 to 2019500\n",
            "Data columns (total 7 columns):\n",
            " #   Column                  Dtype \n",
            "---  ------                  ----- \n",
            " 0   order_dow               int64 \n",
            " 1   order_hour_of_day       int64 \n",
            " 2   days_since_prior_order  int64 \n",
            " 3   add_to_cart_order       int64 \n",
            " 4   reordered               int64 \n",
            " 5   department              object\n",
            " 6   product_name            object\n",
            "dtypes: int64(5), object(2)\n",
            "memory usage: 107.9+ MB\n",
            "None\n",
            "<class 'pandas.core.frame.DataFrame'>\n",
            "Int64Index: 105273 entries, 2 to 206209\n",
            "Data columns (total 5 columns):\n",
            " #   Column                  Non-Null Count   Dtype\n",
            "---  ------                  --------------   -----\n",
            " 0   order_dow               105273 non-null  int64\n",
            " 1   order_hour_of_day       105273 non-null  int64\n",
            " 2   days_since_prior_order  105273 non-null  int64\n",
            " 3   add_to_cart_order       105273 non-null  int64\n",
            " 4   reordered               105273 non-null  int64\n",
            "dtypes: int64(5)\n",
            "memory usage: 4.8 MB\n",
            "None\n"
          ]
        }
      ]
    },
    {
      "cell_type": "code",
      "source": [
        "from sklearn.preprocessing import LabelEncoder\n",
        "\n",
        "# Create an instance of LabelEncoder\n",
        "le = LabelEncoder()\n",
        "\n",
        "# Convert categorical column to numerical values\n",
        "data['department'] = le.fit_transform(data['department'])\n",
        "data['product_name'] = le.fit_transform(data['product_name'])\n",
        "data.info()"
      ],
      "metadata": {
        "colab": {
          "base_uri": "https://localhost:8080/"
        },
        "id": "h3LM_-Tm5p5j",
        "outputId": "9494b1a1-be0f-4c09-83a5-289cb96d8d1c"
      },
      "execution_count": 65,
      "outputs": [
        {
          "output_type": "stream",
          "name": "stdout",
          "text": [
            "<class 'pandas.core.frame.DataFrame'>\n",
            "RangeIndex: 2019501 entries, 0 to 2019500\n",
            "Data columns (total 7 columns):\n",
            " #   Column                  Dtype\n",
            "---  ------                  -----\n",
            " 0   order_dow               int64\n",
            " 1   order_hour_of_day       int64\n",
            " 2   days_since_prior_order  int64\n",
            " 3   add_to_cart_order       int64\n",
            " 4   reordered               int64\n",
            " 5   department              int64\n",
            " 6   product_name            int64\n",
            "dtypes: int64(7)\n",
            "memory usage: 107.9 MB\n"
          ]
        }
      ]
    },
    {
      "cell_type": "markdown",
      "source": [
        "### Run K-means on order data."
      ],
      "metadata": {
        "id": "fHZh1h_2ppHw"
      }
    },
    {
      "cell_type": "code",
      "source": [
        "# Run K-Means to identify supermarket order groups\n",
        "no_clusters = {}\n",
        "\n",
        "for i in range(2,20):\n",
        "    km = KMeans(n_clusters=i, random_state=0)\n",
        "    km.fit(data)\n",
        "    no_clusters.update({i: km.inertia_})\n",
        "\n",
        "print(f\"K-means inertia values: {no_clusters}\")\n",
        "\n",
        "# Get the keys and values as separate lists\n",
        "cluster = [key for key, value in no_clusters.items()]\n",
        "inertia = [value for key, value in no_clusters.items()]\n",
        "\n",
        "# Plot the inertia values against the cluster number\n",
        "plt.plot(cluster, inertia)\n",
        "plt.xlabel('Number of Clusters')\n",
        "plt.ylabel('In Cluster Distance')\n",
        "plt.title('Elbow Method For Optimal k')\n",
        "plt.show()"
      ],
      "metadata": {
        "colab": {
          "base_uri": "https://localhost:8080/",
          "height": 333
        },
        "id": "6GN2MA-k3QHR",
        "outputId": "d2d7a6d1-03ec-4b3a-d20a-f65d882ccd96"
      },
      "execution_count": 66,
      "outputs": [
        {
          "output_type": "stream",
          "name": "stdout",
          "text": [
            "K-means inertia values: {2: 1046362238.6044939, 3: 724530026.970402, 4: 519974484.05792445, 5: 467268308.2601307, 6: 433234029.11727464, 7: 389781346.99585724, 8: 362621218.72998166, 9: 340302687.588222, 10: 322961993.61906326, 11: 301952241.37386173, 12: 287443468.9739099, 13: 277083662.3813113, 14: 266696060.4845338, 15: 256195274.86509398, 16: 247824626.64112103, 17: 238406727.90878826, 18: 232024791.2602478, 19: 226115734.69794816}\n"
          ]
        },
        {
          "output_type": "display_data",
          "data": {
            "text/plain": [
              "<Figure size 432x288 with 1 Axes>"
            ],
            "image/png": "[encoded data removed]"
          },
          "metadata": {
            "needs_background": "light"
          }
        }
      ]
    },
    {
      "cell_type": "code",
      "source": [
        "# Run the select K-means model with the selected number of clusters\n",
        "km_selected = KMeans(7, random_state=0)\n",
        "km_selected.fit(data)\n",
        "predictions = km_selected.predict(data)\n",
        "print(predictions)"
      ],
      "metadata": {
        "colab": {
          "base_uri": "https://localhost:8080/"
        },
        "id": "FDUETejM-dK0",
        "outputId": "29fcafcd-b6fa-4252-b674-8ec05aa00bee"
      },
      "execution_count": 70,
      "outputs": [
        {
          "output_type": "stream",
          "name": "stdout",
          "text": [
            "[5 2 5 ... 0 0 0]\n"
          ]
        }
      ]
    },
    {
      "cell_type": "code",
      "source": [
        "# Get centroid values for each cluster\n",
        "centroids = km_selected.cluster_centers_\n",
        "\n",
        "# Create dataframe from centroid values\n",
        "df = pd.DataFrame(centroids, columns=data.columns)\n",
        "\n",
        "# Examine values of each column to determine characteristics related to each cluster\n",
        "for i in range(km_selected.n_clusters):\n",
        "    print(f\"Cluster {i}:\\n{df.iloc[i]}\")"
      ],
      "metadata": {
        "colab": {
          "base_uri": "https://localhost:8080/"
        },
        "id": "dmyN0upk-dXX",
        "outputId": "ff81dc9c-9483-40d7-bc86-aca7135cb8af"
      },
      "execution_count": 71,
      "outputs": [
        {
          "output_type": "stream",
          "name": "stdout",
          "text": [
            "Cluster 0:\n",
            "order_dow                  2.717613\n",
            "order_hour_of_day         13.438661\n",
            "days_since_prior_order    10.884515\n",
            "add_to_cart_order          8.681640\n",
            "reordered                  0.570978\n",
            "department                14.390813\n",
            "product_name              96.483755\n",
            "Name: 0, dtype: float64\n",
            "Cluster 1:\n",
            "order_dow                  2.791147\n",
            "order_hour_of_day         13.392648\n",
            "days_since_prior_order     8.539033\n",
            "add_to_cart_order          8.484480\n",
            "reordered                  0.564434\n",
            "department                13.652787\n",
            "product_name              30.109629\n",
            "Name: 1, dtype: float64\n",
            "Cluster 2:\n",
            "order_dow                   2.757671\n",
            "order_hour_of_day          13.397968\n",
            "days_since_prior_order     10.526587\n",
            "add_to_cart_order           7.718023\n",
            "reordered                   0.610523\n",
            "department                  6.478073\n",
            "product_name              124.293473\n",
            "Name: 2, dtype: float64\n",
            "Cluster 3:\n",
            "order_dow                  2.713959\n",
            "order_hour_of_day         13.426263\n",
            "days_since_prior_order     6.321500\n",
            "add_to_cart_order          8.232986\n",
            "reordered                  0.646084\n",
            "department                17.082479\n",
            "product_name              52.262843\n",
            "Name: 3, dtype: float64\n",
            "Cluster 4:\n",
            "order_dow                  2.774579\n",
            "order_hour_of_day         13.493198\n",
            "days_since_prior_order     9.605856\n",
            "add_to_cart_order          8.019685\n",
            "reordered                  0.586661\n",
            "department                 8.591355\n",
            "product_name              76.325602\n",
            "Name: 4, dtype: float64\n",
            "Cluster 5:\n",
            "order_dow                  2.751286\n",
            "order_hour_of_day         13.430726\n",
            "days_since_prior_order    11.379510\n",
            "add_to_cart_order          9.103793\n",
            "reordered                  0.526492\n",
            "department                 5.827857\n",
            "product_name              12.370878\n",
            "Name: 5, dtype: float64\n",
            "Cluster 6:\n",
            "order_dow                  2.644972\n",
            "order_hour_of_day         13.574717\n",
            "days_since_prior_order    26.280947\n",
            "add_to_cart_order          8.868192\n",
            "reordered                  0.528295\n",
            "department                15.648656\n",
            "product_name              51.855098\n",
            "Name: 6, dtype: float64\n"
          ]
        }
      ]
    },
    {
      "cell_type": "markdown",
      "source": [
        "### Run K-means on data grouped by user_id"
      ],
      "metadata": {
        "id": "qaMPSzATpePt"
      }
    },
    {
      "cell_type": "code",
      "source": [
        "# Run K-means algorithm on data grouped by customer\n",
        "no_clusters = {}\n",
        "\n",
        "for i in range(2,20):\n",
        "    km = KMeans(n_clusters=i, random_state=0)\n",
        "    km.fit(customer_data)\n",
        "    no_clusters.update({i: km.inertia_})\n",
        "\n",
        "print(f\"K-means inertia values: {no_clusters}\")\n",
        "\n",
        "# Get the keys and values as separate lists\n",
        "cluster = [key for key, value in no_clusters.items()]\n",
        "inertia = [value for key, value in no_clusters.items()]\n",
        "\n",
        "# Plot the inertia values against the cluster number\n",
        "plt.plot(cluster, inertia)\n",
        "plt.xlabel('Number of Clusters')\n",
        "plt.ylabel('In Cluster Distance')\n",
        "plt.title('Elbow Method For Optimal k')\n",
        "plt.show()\n",
        "\n",
        "# Run the select K-means model with the selected number of clusters\n",
        "km_selected = KMeans(6, random_state=0)\n",
        "km_selected.fit(customer_data)\n",
        "predictions = km_selected.predict(customer_data)\n",
        "print(predictions)\n",
        "\n",
        "# Get centroid values for each cluster\n",
        "centroids = km_selected.cluster_centers_\n",
        "\n",
        "# Create dataframe from centroid values\n",
        "df = pd.DataFrame(centroids, columns=customer_data.columns)\n",
        "\n",
        "# Examine values of each column to determine characteristics related to each cluster\n",
        "for i in range(km_selected.n_clusters):\n",
        "    print(f\"Cluster {i}:\\n{df.iloc[i]}\")"
      ],
      "metadata": {
        "colab": {
          "base_uri": "https://localhost:8080/",
          "height": 1000
        },
        "id": "uGjaHYuXo1i-",
        "outputId": "ce7b6738-0d85-4511-fa88-95afb7259f87"
      },
      "execution_count": 93,
      "outputs": [
        {
          "output_type": "stream",
          "name": "stdout",
          "text": [
            "K-means inertia values: {2: 11778457.769509453, 3: 8313133.880961843, 4: 7104354.967213955, 5: 6091067.060501737, 6: 5350193.679113516, 7: 4951362.2213344425, 8: 4624280.002864263, 9: 4307859.9791626595, 10: 4052577.580867283, 11: 3824257.4147511553, 12: 3647970.998004639, 13: 3476756.5957209687, 14: 3342006.165217145, 15: 3223130.934458562, 16: 3115336.7528125364, 17: 3016366.5442922236, 18: 2921083.8044900517, 19: 2828202.237994241}\n"
          ]
        },
        {
          "output_type": "display_data",
          "data": {
            "text/plain": [
              "<Figure size 432x288 with 1 Axes>"
            ],
            "image/png": "[encoded data removed]"
          },
          "metadata": {
            "needs_background": "light"
          }
        },
        {
          "output_type": "stream",
          "name": "stdout",
          "text": [
            "[4 1 5 ... 4 2 3]\n",
            "Cluster 0:\n",
            "order_dow                  3.806155\n",
            "order_hour_of_day         15.574239\n",
            "days_since_prior_order    10.779188\n",
            "add_to_cart_order         31.634201\n",
            "reordered                  0.961136\n",
            "Name: 0, dtype: float64\n",
            "Cluster 1:\n",
            "order_dow                  3.417012\n",
            "order_hour_of_day         14.838666\n",
            "days_since_prior_order    15.429841\n",
            "add_to_cart_order          7.735736\n",
            "reordered                  0.946987\n",
            "Name: 1, dtype: float64\n",
            "Cluster 2:\n",
            "order_dow                  3.671058\n",
            "order_hour_of_day         15.484581\n",
            "days_since_prior_order     7.842623\n",
            "add_to_cart_order         16.916365\n",
            "reordered                  0.931181\n",
            "Name: 2, dtype: float64\n",
            "Cluster 3:\n",
            "order_dow                  3.268724\n",
            "order_hour_of_day         14.516749\n",
            "days_since_prior_order    28.857685\n",
            "add_to_cart_order          6.970768\n",
            "reordered                  0.886232\n",
            "Name: 3, dtype: float64\n",
            "Cluster 4:\n",
            "order_dow                  3.236002\n",
            "order_hour_of_day         14.248132\n",
            "days_since_prior_order     4.444580\n",
            "add_to_cart_order          6.400334\n",
            "reordered                  0.760766\n",
            "Name: 4, dtype: float64\n",
            "Cluster 5:\n",
            "order_dow                  3.548288\n",
            "order_hour_of_day         15.338784\n",
            "days_since_prior_order    27.053930\n",
            "add_to_cart_order         20.671543\n",
            "reordered                  0.987952\n",
            "Name: 5, dtype: float64\n"
          ]
        }
      ]
    },
    {
      "cell_type": "markdown",
      "source": [
        "#### Silhouette_score computation takes too long to complete."
      ],
      "metadata": {
        "id": "I4VoDBxip6t2"
      }
    },
    {
      "cell_type": "code",
      "source": [
        "from sklearn.metrics import silhouette_score\n",
        "\n",
        "# Evaluate KMeans clustering for different number of clusters\n",
        "silhouette_scores = []\n",
        "for n_clusters in range(4, 5):\n",
        "    kmeans = KMeans(n_clusters=n_clusters, random_state=0)\n",
        "    cluster_labels = kmeans.fit_predict(data)\n",
        "    silhouette_avg = silhouette_score(data, cluster_labels)\n",
        "    silhouette_scores.append(silhouette_avg)\n",
        "    print(f\"For n_clusters = {n_clusters}, the average silhouette score is : {silhouette_avg}\")\n",
        "\n",
        "# Plot the silhouette scores\n",
        "plt.plot(range(2, 5), silhouette_scores)\n",
        "plt.xlabel(\"Number of Clusters\")\n",
        "plt.ylabel(\"Silhouette Score\")\n",
        "plt.show()"
      ],
      "metadata": {
        "id": "x-6ccK7n7icu"
      },
      "execution_count": null,
      "outputs": []
    },
    {
      "cell_type": "markdown",
      "source": [
        "#### Interpretation:\n",
        "* There are seven distinct supermarket order types with different average values (centroid values) for the features: order_dow, order_hour_of_day, days_since_prior_order, add_to_cart_order, reordered, department, and product_name. \n",
        "* There are six distinct customer groups with different average values for each customer's maximum value for the  features: order_dow, order_hour_of_day, days_since_prior_order, add_to_cart_order, and reordered."
      ],
      "metadata": {
        "id": "8i2nQpgOqgU0"
      }
    }
  ]
}